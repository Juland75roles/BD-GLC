{
  "nbformat": 4,
  "nbformat_minor": 0,
  "metadata": {
    "colab": {
      "provenance": [],
      "mount_file_id": "1GizfS0JCMiV_UFJsQelFQXIiNBQIh5j4",
      "authorship_tag": "ABX9TyMq72TiEVmbcEi8j6aI++qN",
      "include_colab_link": true
    },
    "kernelspec": {
      "name": "python3",
      "display_name": "Python 3"
    },
    "language_info": {
      "name": "python"
    }
  },
  "cells": [
    {
      "cell_type": "markdown",
      "metadata": {
        "id": "view-in-github",
        "colab_type": "text"
      },
      "source": [
        "<a href=\"https://colab.research.google.com/github/Juland75roles/BD-GLC/blob/main/Expos%C3%A9_BD.ipynb\" target=\"_parent\"><img src=\"https://colab.research.google.com/assets/colab-badge.svg\" alt=\"Open In Colab\"/></a>"
      ]
    },
    {
      "cell_type": "code",
      "execution_count": null,
      "metadata": {
        "id": "2gsSUy0N2M5Z"
      },
      "outputs": [],
      "source": []
    },
    {
      "cell_type": "code",
      "source": [
        "!pip install pyspark -q\n",
        "!pip install findspark -q"
      ],
      "metadata": {
        "id": "9ea5pdI94MEO"
      },
      "execution_count": 9,
      "outputs": []
    },
    {
      "cell_type": "code",
      "source": [
        "from pyspark.sql import SparkSession\n",
        "spark = SparkSession.builder.appName(\"Apache Project\").getOrCreate()"
      ],
      "metadata": {
        "id": "MGgRKhhY9FH-"
      },
      "execution_count": 2,
      "outputs": []
    },
    {
      "cell_type": "markdown",
      "source": [
        "Télechargement des données\n"
      ],
      "metadata": {
        "id": "Sget6SJM5ZWO"
      }
    },
    {
      "cell_type": "code",
      "source": [
        "!wget https://data.cityofchicago.org/api/views/ijzp-q8t2/rows.csv?accessType-DOWNLOAD"
      ],
      "metadata": {
        "colab": {
          "base_uri": "https://localhost:8080/"
        },
        "id": "nPSiJiP24nV6",
        "outputId": "fb70ec75-3975-43a9-ec40-afa6800fe153"
      },
      "execution_count": 12,
      "outputs": [
        {
          "output_type": "stream",
          "name": "stdout",
          "text": [
            "--2024-11-27 14:45:14--  https://data.cityofchicago.org/api/views/ijzp-q8t2/rows.csv?accessType-DOWNLOAD\n",
            "Resolving data.cityofchicago.org (data.cityofchicago.org)... 174.129.43.10, 100.28.82.57, 35.170.133.124\n",
            "Connecting to data.cityofchicago.org (data.cityofchicago.org)|174.129.43.10|:443... connected.\n",
            "HTTP request sent, awaiting response... 200 OK\n",
            "Length: unspecified [text/csv]\n",
            "Saving to: ‘rows.csv?accessType-DOWNLOAD’\n",
            "\n",
            "rows.csv?accessType     [           <=>      ]   1.81G  2.68MB/s    in 11m 2s  \n",
            "\n",
            "2024-11-27 14:56:16 (2.79 MB/s) - ‘rows.csv?accessType-DOWNLOAD’ saved [1939034211]\n",
            "\n"
          ]
        }
      ]
    },
    {
      "cell_type": "code",
      "source": [
        "!mv rows.csv\\?accessType-DOWNLOAD crimes.csv"
      ],
      "metadata": {
        "id": "GO_U8Kyt-rN1"
      },
      "execution_count": 13,
      "outputs": []
    },
    {
      "cell_type": "markdown",
      "source": [
        "Lecture du fichier des données"
      ],
      "metadata": {
        "id": "B0cnjFLR_n1J"
      }
    },
    {
      "cell_type": "code",
      "source": [
        "df = spark.read.csv(\n",
        "    'crimes.csv',\n",
        ")\n",
        "\n",
        "df.show(5)"
      ],
      "metadata": {
        "colab": {
          "base_uri": "https://localhost:8080/"
        },
        "id": "9GLSjqtu_hwX",
        "outputId": "8ce490e9-cc9d-47f1-9b31-07f8fba83c2a"
      },
      "execution_count": 14,
      "outputs": [
        {
          "output_type": "stream",
          "name": "stdout",
          "text": [
            "+--------+-----------+--------------------+--------------------+----+------------------+--------------------+--------------------+------+--------+----+--------+----+--------------+--------+------------+------------+----+--------------------+--------+---------+--------+\n",
            "|     _c0|        _c1|                 _c2|                 _c3| _c4|               _c5|                 _c6|                 _c7|   _c8|     _c9|_c10|    _c11|_c12|          _c13|    _c14|        _c15|        _c16|_c17|                _c18|    _c19|     _c20|    _c21|\n",
            "+--------+-----------+--------------------+--------------------+----+------------------+--------------------+--------------------+------+--------+----+--------+----+--------------+--------+------------+------------+----+--------------------+--------+---------+--------+\n",
            "|      ID|Case Number|                Date|               Block|IUCR|      Primary Type|         Description|Location Description|Arrest|Domestic|Beat|District|Ward|Community Area|FBI Code|X Coordinate|Y Coordinate|Year|          Updated On|Latitude|Longitude|Location|\n",
            "|11037294|   JA371270|03/18/2015 12:00:...|   0000X W WACKER DR|1153|DECEPTIVE PRACTICE|FINANCIAL IDENTIT...|                BANK| false|   false|0111|     001|  42|            32|      11|        NULL|        NULL|2015|08/01/2017 03:52:...|    NULL|     NULL|    NULL|\n",
            "|11646293|   JC213749|12/20/2018 03:00:...|023XX N LOCKWOOD AVE|1154|DECEPTIVE PRACTICE|FINANCIAL IDENTIT...|           APARTMENT| false|   false|2515|     025|  36|            19|      11|        NULL|        NULL|2018|04/06/2019 04:04:...|    NULL|     NULL|    NULL|\n",
            "|11645836|   JC212333|05/01/2016 12:25:...| 055XX S ROCKWELL ST|1153|DECEPTIVE PRACTICE|FINANCIAL IDENTIT...|                NULL| false|   false|0824|     008|  15|            63|      11|        NULL|        NULL|2016|04/06/2019 04:04:...|    NULL|     NULL|    NULL|\n",
            "|11645959|   JC211511|12/20/2018 04:00:...|  045XX N ALBANY AVE|2820|     OTHER OFFENSE|    TELEPHONE THREAT|           RESIDENCE| false|   false|1724|     017|  33|            14|     08A|        NULL|        NULL|2018|04/06/2019 04:04:...|    NULL|     NULL|    NULL|\n",
            "+--------+-----------+--------------------+--------------------+----+------------------+--------------------+--------------------+------+--------+----+--------+----+--------------+--------+------------+------------+----+--------------------+--------+---------+--------+\n",
            "only showing top 5 rows\n",
            "\n"
          ]
        }
      ]
    },
    {
      "cell_type": "code",
      "source": [
        "df.count()"
      ],
      "metadata": {
        "colab": {
          "base_uri": "https://localhost:8080/"
        },
        "id": "m1bDV-J6AP2Y",
        "outputId": "de5cceed-6a43-49de-9e2a-f08b55329e3e"
      },
      "execution_count": 48,
      "outputs": [
        {
          "output_type": "execute_result",
          "data": {
            "text/plain": [
              "8207111"
            ]
          },
          "metadata": {},
          "execution_count": 48
        }
      ]
    },
    {
      "cell_type": "code",
      "source": [
        "type(df)"
      ],
      "metadata": {
        "colab": {
          "base_uri": "https://localhost:8080/",
          "height": 187
        },
        "id": "crEjoXenAYz9",
        "outputId": "cc795aac-c309-4538-b840-79936aca3b7e"
      },
      "execution_count": 49,
      "outputs": [
        {
          "output_type": "execute_result",
          "data": {
            "text/plain": [
              "pyspark.sql.dataframe.DataFrame"
            ],
            "text/html": [
              "<div style=\"max-width:800px; border: 1px solid var(--colab-border-color);\"><style>\n",
              "      pre.function-repr-contents {\n",
              "        overflow-x: auto;\n",
              "        padding: 8px 12px;\n",
              "        max-height: 500px;\n",
              "      }\n",
              "\n",
              "      pre.function-repr-contents.function-repr-contents-collapsed {\n",
              "        cursor: pointer;\n",
              "        max-height: 100px;\n",
              "      }\n",
              "    </style>\n",
              "    <pre style=\"white-space: initial; background:\n",
              "         var(--colab-secondary-surface-color); padding: 8px 12px;\n",
              "         border-bottom: 1px solid var(--colab-border-color);\"><b>pyspark.sql.dataframe.DataFrame</b><br/>def __init__(jdf: JavaObject, sql_ctx: Union[&#x27;SQLContext&#x27;, &#x27;SparkSession&#x27;])</pre><pre class=\"function-repr-contents function-repr-contents-collapsed\" style=\"\"><a class=\"filepath\" style=\"display:none\" href=\"#\">/usr/local/lib/python3.10/dist-packages/pyspark/sql/dataframe.py</a>A distributed collection of data grouped into named columns.\n",
              "\n",
              ".. versionadded:: 1.3.0\n",
              "\n",
              ".. versionchanged:: 3.4.0\n",
              "    Supports Spark Connect.\n",
              "\n",
              "Examples\n",
              "--------\n",
              "A :class:`DataFrame` is equivalent to a relational table in Spark SQL,\n",
              "and can be created using various functions in :class:`SparkSession`:\n",
              "\n",
              "&gt;&gt;&gt; people = spark.createDataFrame([\n",
              "...     {&quot;deptId&quot;: 1, &quot;age&quot;: 40, &quot;name&quot;: &quot;Hyukjin Kwon&quot;, &quot;gender&quot;: &quot;M&quot;, &quot;salary&quot;: 50},\n",
              "...     {&quot;deptId&quot;: 1, &quot;age&quot;: 50, &quot;name&quot;: &quot;Takuya Ueshin&quot;, &quot;gender&quot;: &quot;M&quot;, &quot;salary&quot;: 100},\n",
              "...     {&quot;deptId&quot;: 2, &quot;age&quot;: 60, &quot;name&quot;: &quot;Xinrong Meng&quot;, &quot;gender&quot;: &quot;F&quot;, &quot;salary&quot;: 150},\n",
              "...     {&quot;deptId&quot;: 3, &quot;age&quot;: 20, &quot;name&quot;: &quot;Haejoon Lee&quot;, &quot;gender&quot;: &quot;M&quot;, &quot;salary&quot;: 200}\n",
              "... ])\n",
              "\n",
              "Once created, it can be manipulated using the various domain-specific-language\n",
              "(DSL) functions defined in: :class:`DataFrame`, :class:`Column`.\n",
              "\n",
              "To select a column from the :class:`DataFrame`, use the apply method:\n",
              "\n",
              "&gt;&gt;&gt; age_col = people.age\n",
              "\n",
              "A more concrete example:\n",
              "\n",
              "&gt;&gt;&gt; # To create DataFrame using SparkSession\n",
              "... department = spark.createDataFrame([\n",
              "...     {&quot;id&quot;: 1, &quot;name&quot;: &quot;PySpark&quot;},\n",
              "...     {&quot;id&quot;: 2, &quot;name&quot;: &quot;ML&quot;},\n",
              "...     {&quot;id&quot;: 3, &quot;name&quot;: &quot;Spark SQL&quot;}\n",
              "... ])\n",
              "\n",
              "&gt;&gt;&gt; people.filter(people.age &gt; 30).join(\n",
              "...     department, people.deptId == department.id).groupBy(\n",
              "...     department.name, &quot;gender&quot;).agg({&quot;salary&quot;: &quot;avg&quot;, &quot;age&quot;: &quot;max&quot;}).show()\n",
              "+-------+------+-----------+--------+\n",
              "|   name|gender|avg(salary)|max(age)|\n",
              "+-------+------+-----------+--------+\n",
              "|     ML|     F|      150.0|      60|\n",
              "|PySpark|     M|       75.0|      50|\n",
              "+-------+------+-----------+--------+\n",
              "\n",
              "Notes\n",
              "-----\n",
              "A DataFrame should only be created as described above. It should not be directly\n",
              "created via using the constructor.</pre>\n",
              "      <script>\n",
              "      if (google.colab.kernel.accessAllowed && google.colab.files && google.colab.files.view) {\n",
              "        for (const element of document.querySelectorAll('.filepath')) {\n",
              "          element.style.display = 'block'\n",
              "          element.onclick = (event) => {\n",
              "            event.preventDefault();\n",
              "            event.stopPropagation();\n",
              "            google.colab.files.view(element.textContent, 80);\n",
              "          };\n",
              "        }\n",
              "      }\n",
              "      for (const element of document.querySelectorAll('.function-repr-contents')) {\n",
              "        element.onclick = (event) => {\n",
              "          event.preventDefault();\n",
              "          event.stopPropagation();\n",
              "          element.classList.toggle('function-repr-contents-collapsed');\n",
              "        };\n",
              "      }\n",
              "      </script>\n",
              "      </div>"
            ]
          },
          "metadata": {},
          "execution_count": 49
        }
      ]
    },
    {
      "cell_type": "code",
      "source": [
        "df.printSchema()"
      ],
      "metadata": {
        "colab": {
          "base_uri": "https://localhost:8080/"
        },
        "collapsed": true,
        "id": "j_0HrQk-Ay2q",
        "outputId": "eaf8c79e-3069-47d1-8f03-58e3200b9e11"
      },
      "execution_count": 50,
      "outputs": [
        {
          "output_type": "stream",
          "name": "stdout",
          "text": [
            "root\n",
            " |-- _c0: string (nullable = true)\n",
            " |-- _c1: string (nullable = true)\n",
            " |-- _c2: string (nullable = true)\n",
            " |-- _c3: string (nullable = true)\n",
            " |-- _c4: string (nullable = true)\n",
            " |-- _c5: string (nullable = true)\n",
            " |-- _c6: string (nullable = true)\n",
            " |-- _c7: string (nullable = true)\n",
            " |-- _c8: string (nullable = true)\n",
            " |-- _c9: string (nullable = true)\n",
            " |-- _c10: string (nullable = true)\n",
            " |-- _c11: string (nullable = true)\n",
            " |-- _c12: string (nullable = true)\n",
            " |-- _c13: string (nullable = true)\n",
            " |-- _c14: string (nullable = true)\n",
            " |-- _c15: string (nullable = true)\n",
            " |-- _c16: string (nullable = true)\n",
            " |-- _c17: string (nullable = true)\n",
            " |-- _c18: string (nullable = true)\n",
            " |-- _c19: string (nullable = true)\n",
            " |-- _c20: string (nullable = true)\n",
            " |-- _c21: string (nullable = true)\n",
            "\n"
          ]
        }
      ]
    },
    {
      "cell_type": "code",
      "source": [
        "from pyspark.sql.functions import to_timestamp, col"
      ],
      "metadata": {
        "id": "EDjpmnoDBN_n"
      },
      "execution_count": 22,
      "outputs": []
    },
    {
      "cell_type": "code",
      "source": [
        "df = df.withColumn(\n",
        "    '_c2',\n",
        "    to_timestamp(col('_c2'), 'MM/dd/yyyy hh:mm:ss a')\n",
        ")\n",
        "\n",
        "df.printSchema()"
      ],
      "metadata": {
        "colab": {
          "base_uri": "https://localhost:8080/"
        },
        "id": "A4C8YuldEgqO",
        "outputId": "ee7824d7-2084-4257-ddc5-b8fb70dee6d7"
      },
      "execution_count": 51,
      "outputs": [
        {
          "output_type": "stream",
          "name": "stdout",
          "text": [
            "root\n",
            " |-- _c0: string (nullable = true)\n",
            " |-- _c1: string (nullable = true)\n",
            " |-- _c2: timestamp (nullable = true)\n",
            " |-- _c3: string (nullable = true)\n",
            " |-- _c4: string (nullable = true)\n",
            " |-- _c5: string (nullable = true)\n",
            " |-- _c6: string (nullable = true)\n",
            " |-- _c7: string (nullable = true)\n",
            " |-- _c8: string (nullable = true)\n",
            " |-- _c9: string (nullable = true)\n",
            " |-- _c10: string (nullable = true)\n",
            " |-- _c11: string (nullable = true)\n",
            " |-- _c12: string (nullable = true)\n",
            " |-- _c13: string (nullable = true)\n",
            " |-- _c14: string (nullable = true)\n",
            " |-- _c15: string (nullable = true)\n",
            " |-- _c16: string (nullable = true)\n",
            " |-- _c17: string (nullable = true)\n",
            " |-- _c18: string (nullable = true)\n",
            " |-- _c19: string (nullable = true)\n",
            " |-- _c20: string (nullable = true)\n",
            " |-- _c21: string (nullable = true)\n",
            "\n"
          ]
        }
      ]
    },
    {
      "cell_type": "code",
      "source": [
        "df.show(5)"
      ],
      "metadata": {
        "colab": {
          "base_uri": "https://localhost:8080/"
        },
        "collapsed": true,
        "id": "XsT_Sr6uFWDv",
        "outputId": "c104bd7a-7b86-445e-9be9-3d688e86a337"
      },
      "execution_count": null,
      "outputs": [
        {
          "output_type": "stream",
          "name": "stdout",
          "text": [
            "+--------+-----------+-------------------+--------------------+----+------------------+--------------------+--------------------+------+--------+----+--------+----+--------------+--------+------------+------------+----+--------------------+--------+---------+--------+-------------------+\n",
            "|     _c0|        _c1|                _c2|                 _c3| _c4|               _c5|                 _c6|                 _c7|   _c8|     _c9|_c10|    _c11|_c12|          _c13|    _c14|        _c15|        _c16|_c17|                _c18|    _c19|     _c20|    _c21|               Date|\n",
            "+--------+-----------+-------------------+--------------------+----+------------------+--------------------+--------------------+------+--------+----+--------+----+--------------+--------+------------+------------+----+--------------------+--------+---------+--------+-------------------+\n",
            "|      ID|Case Number|               NULL|               Block|IUCR|      Primary Type|         Description|Location Description|Arrest|Domestic|Beat|District|Ward|Community Area|FBI Code|X Coordinate|Y Coordinate|Year|          Updated On|Latitude|Longitude|Location|               NULL|\n",
            "|11037294|   JA371270|2015-03-18 12:00:00|   0000X W WACKER DR|1153|DECEPTIVE PRACTICE|FINANCIAL IDENTIT...|                BANK| false|   false|0111|     001|  42|            32|      11|        NULL|        NULL|2015|08/01/2017 03:52:...|    NULL|     NULL|    NULL|2015-03-18 12:00:00|\n",
            "|11646293|   JC213749|2018-12-20 15:00:00|023XX N LOCKWOOD AVE|1154|DECEPTIVE PRACTICE|FINANCIAL IDENTIT...|           APARTMENT| false|   false|2515|     025|  36|            19|      11|        NULL|        NULL|2018|04/06/2019 04:04:...|    NULL|     NULL|    NULL|2018-12-20 15:00:00|\n",
            "|11645836|   JC212333|2016-05-01 00:25:00| 055XX S ROCKWELL ST|1153|DECEPTIVE PRACTICE|FINANCIAL IDENTIT...|                NULL| false|   false|0824|     008|  15|            63|      11|        NULL|        NULL|2016|04/06/2019 04:04:...|    NULL|     NULL|    NULL|2016-05-01 00:25:00|\n",
            "|11645959|   JC211511|2018-12-20 16:00:00|  045XX N ALBANY AVE|2820|     OTHER OFFENSE|    TELEPHONE THREAT|           RESIDENCE| false|   false|1724|     017|  33|            14|     08A|        NULL|        NULL|2018|04/06/2019 04:04:...|    NULL|     NULL|    NULL|2018-12-20 16:00:00|\n",
            "+--------+-----------+-------------------+--------------------+----+------------------+--------------------+--------------------+------+--------+----+--------+----+--------------+--------+------------+------------+----+--------------------+--------+---------+--------+-------------------+\n",
            "only showing top 5 rows\n",
            "\n"
          ]
        }
      ]
    },
    {
      "cell_type": "code",
      "source": [
        "df.columns"
      ],
      "metadata": {
        "colab": {
          "base_uri": "https://localhost:8080/"
        },
        "collapsed": true,
        "id": "k85HvUETFf91",
        "outputId": "f3bfde2d-727a-4650-e3d5-b7b3e2794018"
      },
      "execution_count": null,
      "outputs": [
        {
          "output_type": "execute_result",
          "data": {
            "text/plain": [
              "['_c0',\n",
              " '_c1',\n",
              " '_c2',\n",
              " '_c3',\n",
              " '_c4',\n",
              " '_c5',\n",
              " '_c6',\n",
              " '_c7',\n",
              " '_c8',\n",
              " '_c9',\n",
              " '_c10',\n",
              " '_c11',\n",
              " '_c12',\n",
              " '_c13',\n",
              " '_c14',\n",
              " '_c15',\n",
              " '_c16',\n",
              " '_c17',\n",
              " '_c18',\n",
              " '_c19',\n",
              " '_c20',\n",
              " '_c21',\n",
              " 'Date']"
            ]
          },
          "metadata": {},
          "execution_count": 15
        }
      ]
    },
    {
      "cell_type": "code",
      "source": [
        "df.select(col('_c4')).show(5)"
      ],
      "metadata": {
        "colab": {
          "base_uri": "https://localhost:8080/"
        },
        "collapsed": true,
        "id": "BBrSaWumFug0",
        "outputId": "dc7de076-0039-418d-f265-651be59033cf"
      },
      "execution_count": null,
      "outputs": [
        {
          "output_type": "stream",
          "name": "stdout",
          "text": [
            "+----+\n",
            "| _c4|\n",
            "+----+\n",
            "|IUCR|\n",
            "|1153|\n",
            "|1154|\n",
            "|1153|\n",
            "|2820|\n",
            "+----+\n",
            "only showing top 5 rows\n",
            "\n"
          ]
        }
      ]
    },
    {
      "cell_type": "code",
      "source": [
        "df.select('_c2', '_c6', '_c8').show(5)"
      ],
      "metadata": {
        "colab": {
          "base_uri": "https://localhost:8080/"
        },
        "collapsed": true,
        "id": "LyRuiQkLGRpB",
        "outputId": "9ef59f48-ed96-44cd-8845-41d8bd4ec4c3"
      },
      "execution_count": null,
      "outputs": [
        {
          "output_type": "stream",
          "name": "stdout",
          "text": [
            "+-------------------+--------------------+------+\n",
            "|                _c2|                 _c6|   _c8|\n",
            "+-------------------+--------------------+------+\n",
            "|               NULL|         Description|Arrest|\n",
            "|2015-03-18 12:00:00|FINANCIAL IDENTIT...| false|\n",
            "|2018-12-20 15:00:00|FINANCIAL IDENTIT...| false|\n",
            "|2016-05-01 00:25:00|FINANCIAL IDENTIT...| false|\n",
            "|2018-12-20 16:00:00|    TELEPHONE THREAT| false|\n",
            "+-------------------+--------------------+------+\n",
            "only showing top 5 rows\n",
            "\n"
          ]
        }
      ]
    },
    {
      "cell_type": "code",
      "source": [
        "from pyspark.sql.functions import lit"
      ],
      "metadata": {
        "id": "8kVilYZvITjZ"
      },
      "execution_count": null,
      "outputs": []
    },
    {
      "cell_type": "code",
      "source": [
        "df.withColumn('One', lit(1)).show(5)"
      ],
      "metadata": {
        "colab": {
          "base_uri": "https://localhost:8080/"
        },
        "id": "SXt6P4W0K7O9",
        "outputId": "928fdae3-d1c7-445a-c091-7b5f7d3107ec"
      },
      "execution_count": 54,
      "outputs": [
        {
          "output_type": "stream",
          "name": "stdout",
          "text": [
            "+--------+-----------+-------------------+--------------------+----+------------------+--------------------+--------------------+------+--------+----+--------+----+--------------+--------+------------+------------+----+--------------------+--------+---------+--------+---+\n",
            "|     _c0|        _c1|                _c2|                 _c3| _c4|               _c5|                 _c6|                 _c7|   _c8|     _c9|_c10|    _c11|_c12|          _c13|    _c14|        _c15|        _c16|_c17|                _c18|    _c19|     _c20|    _c21|One|\n",
            "+--------+-----------+-------------------+--------------------+----+------------------+--------------------+--------------------+------+--------+----+--------+----+--------------+--------+------------+------------+----+--------------------+--------+---------+--------+---+\n",
            "|      ID|Case Number|               NULL|               Block|IUCR|      Primary Type|         Description|Location Description|Arrest|Domestic|Beat|District|Ward|Community Area|FBI Code|X Coordinate|Y Coordinate|Year|          Updated On|Latitude|Longitude|Location|  1|\n",
            "|11037294|   JA371270|2015-03-18 12:00:00|   0000X W WACKER DR|1153|DECEPTIVE PRACTICE|FINANCIAL IDENTIT...|                BANK| false|   false|0111|     001|  42|            32|      11|        NULL|        NULL|2015|08/01/2017 03:52:...|    NULL|     NULL|    NULL|  1|\n",
            "|11646293|   JC213749|2018-12-20 15:00:00|023XX N LOCKWOOD AVE|1154|DECEPTIVE PRACTICE|FINANCIAL IDENTIT...|           APARTMENT| false|   false|2515|     025|  36|            19|      11|        NULL|        NULL|2018|04/06/2019 04:04:...|    NULL|     NULL|    NULL|  1|\n",
            "|11645836|   JC212333|2016-05-01 00:25:00| 055XX S ROCKWELL ST|1153|DECEPTIVE PRACTICE|FINANCIAL IDENTIT...|                NULL| false|   false|0824|     008|  15|            63|      11|        NULL|        NULL|2016|04/06/2019 04:04:...|    NULL|     NULL|    NULL|  1|\n",
            "|11645959|   JC211511|2018-12-20 16:00:00|  045XX N ALBANY AVE|2820|     OTHER OFFENSE|    TELEPHONE THREAT|           RESIDENCE| false|   false|1724|     017|  33|            14|     08A|        NULL|        NULL|2018|04/06/2019 04:04:...|    NULL|     NULL|    NULL|  1|\n",
            "+--------+-----------+-------------------+--------------------+----+------------------+--------------------+--------------------+------+--------+----+--------+----+--------------+--------+------------+------------+----+--------------------+--------+---------+--------+---+\n",
            "only showing top 5 rows\n",
            "\n"
          ]
        }
      ]
    },
    {
      "cell_type": "code",
      "source": [
        "#Crimes signalés le 25-12-2023\n",
        "one_day = df.filter(col('_c2') == lit('2023-12-25'))\n",
        "one_day"
      ],
      "metadata": {
        "colab": {
          "base_uri": "https://localhost:8080/"
        },
        "id": "7pwBJQBkNNJ-",
        "outputId": "9a7b5809-964b-45b4-f722-ce743dacc70b"
      },
      "execution_count": 55,
      "outputs": [
        {
          "output_type": "execute_result",
          "data": {
            "text/plain": [
              "DataFrame[_c0: string, _c1: string, _c2: timestamp, _c3: string, _c4: string, _c5: string, _c6: string, _c7: string, _c8: string, _c9: string, _c10: string, _c11: string, _c12: string, _c13: string, _c14: string, _c15: string, _c16: string, _c17: string, _c18: string, _c19: string, _c20: string, _c21: string]"
            ]
          },
          "metadata": {},
          "execution_count": 55
        }
      ]
    },
    {
      "cell_type": "code",
      "source": [
        "one_day.count()"
      ],
      "metadata": {
        "colab": {
          "base_uri": "https://localhost:8080/"
        },
        "id": "G6AhnXd5NyA3",
        "outputId": "5266c4ce-e6c8-4100-dc9e-33fbcd2eb4d0"
      },
      "execution_count": 56,
      "outputs": [
        {
          "output_type": "execute_result",
          "data": {
            "text/plain": [
              "24"
            ]
          },
          "metadata": {},
          "execution_count": 56
        }
      ]
    },
    {
      "cell_type": "code",
      "source": [
        "one_day.show()"
      ],
      "metadata": {
        "colab": {
          "base_uri": "https://localhost:8080/"
        },
        "id": "HEGLZmBqOH7M",
        "outputId": "ef6a3b09-df90-4bf6-dff1-d9f95c489cb2"
      },
      "execution_count": 57,
      "outputs": [
        {
          "output_type": "stream",
          "name": "stdout",
          "text": [
            "+--------+--------+-------------------+--------------------+----+--------------------+--------------------+--------------------+-----+-----+----+----+----+----+----+-------+-------+----+--------------------+------------+-------------+--------------------+\n",
            "|     _c0|     _c1|                _c2|                 _c3| _c4|                 _c5|                 _c6|                 _c7|  _c8|  _c9|_c10|_c11|_c12|_c13|_c14|   _c15|   _c16|_c17|                _c18|        _c19|         _c20|                _c21|\n",
            "+--------+--------+-------------------+--------------------+----+--------------------+--------------------+--------------------+-----+-----+----+----+----+----+----+-------+-------+----+--------------------+------------+-------------+--------------------+\n",
            "|13318703|JG554228|2023-12-25 00:00:00|     035XX W 58TH ST|5001|       OTHER OFFENSE|OTHER CRIME INVOL...|           APARTMENT|false|false|0822| 008|  14|  63|  26|1153847|1865929|2023|01/01/2024 03:41:...|41.787939234|-87.711447285|(41.787939234, -8...|\n",
            "|13321478|JG557372|2023-12-25 00:00:00| 077XX S ASHLAND AVE|1130|  DECEPTIVE PRACTICE|FRAUD OR CONFIDEN...|           APARTMENT|false|false|0612| 006|  17|  71|  11|1167016|1853492|2023|01/01/2024 03:41:...|41.753538951|-87.663516805|(41.753538951, -8...|\n",
            "|13318884|JG554431|2023-12-25 00:00:00|054XX W FULLERTON...|0560|             ASSAULT|              SIMPLE|           APARTMENT|false| true|2515| 025|  31|  19| 08A|1139841|1915427|2023|01/01/2024 03:41:...|41.924035234|-87.761594059|(41.924035234, -8...|\n",
            "|13318368|JG553821|2023-12-25 00:00:00| 010XX N LA SALLE DR|0560|             ASSAULT|              SIMPLE|            SIDEWALK|false|false|1824| 018|   2|   8| 08A|1174943|1907477|2023|01/01/2024 03:41:...|41.901505411| -87.63285424|(41.901505411, -8...|\n",
            "|13318475|JG553993|2023-12-25 00:00:00| 078XX S LANGLEY AVE|0810|               THEFT|           OVER $500|              STREET|false|false|0624| 006|   6|  69|  06|1182252|1853243|2023|01/01/2024 03:41:...|41.752516599| -87.60769045|(41.752516599, -8...|\n",
            "|13320136|JG555955|2023-12-25 00:00:00|    059XX N NEVA AVE|0820|               THEFT|      $500 AND UNDER|              STREET|false|false|1612| 016|  41|  10|  06|1127703|1939053|2023|01/01/2024 03:41:...|41.989081057|-87.805660262|(41.989081057, -8...|\n",
            "|13319432|JG555008|2023-12-25 00:00:00|097XX S MICHIGAN AVE|0560|             ASSAULT|              SIMPLE|           RESIDENCE|false| true|0511| 005|   9|  49| 08A|1178864|1840441|2023|01/01/2024 03:41:...|41.717464086|-87.620494507|(41.717464086, -8...|\n",
            "|13321436|JG554999|2023-12-25 00:00:00|  027XX W MEDILL AVE|0910| MOTOR VEHICLE THEFT|          AUTOMOBILE|              STREET|false|false|1431| 014|   1|  22|  07|1157667|1915493|2023|01/01/2024 03:41:...|41.923871514|-87.696092023|(41.923871514, -8...|\n",
            "|13321988|JG554563|2023-12-25 00:00:00|036XX N MAGNOLIA AVE|0930| MOTOR VEHICLE THEFT|THEFT / RECOVERY ...|              STREET|false|false|1923| 019|  44|   6|  07|1167308|1924397|2023|01/01/2024 03:41:...|41.948102465|-87.660410519|(41.948102465, -8...|\n",
            "|13318496|JG554028|2023-12-25 00:00:00|  002XX N WALLER AVE|0820|               THEFT|      $500 AND UNDER|              STREET|false|false|1512| 015|  29|  25|  06|1138112|1901061|2023|01/01/2024 03:41:...|41.884644659|-87.768294892|(41.884644659, -8...|\n",
            "|13318892|JG554441|2023-12-25 00:00:00|088XX S CARPENTER ST|0920| MOTOR VEHICLE THEFT|ATTEMPT - AUTOMOBILE|              STREET|false|false|2222| 022|  21|  71|  07|1170860|1846267|2023|01/01/2024 03:41:...|41.733629585|-87.649640304|(41.733629585, -8...|\n",
            "|13320360|JG555939|2023-12-25 00:00:00|  047XX N RACINE AVE|0265|CRIMINAL SEXUAL A...|  AGGRAVATED - OTHER|           APARTMENT|false|false|1913| 019|  46|   3|  02|1167458|1931452|2023|01/01/2024 03:41:...|41.967458424|-87.659655286|(41.967458424, -8...|\n",
            "|13319398|JG555051|2023-12-25 00:00:00|  030XX W JARLATH ST|0430|             BATTERY|AGGRAVATED - OTHE...|           RESIDENCE|false|false|2411| 024|  50|   2| 04B|1154979|1947902|2023|01/01/2024 03:41:...|42.012858093|-87.705095615|(42.012858093, -8...|\n",
            "|13318532|JG554056|2023-12-25 00:00:00|   006XX W MONROE ST|1320|     CRIMINAL DAMAGE|          TO VEHICLE|              STREET|false|false|0121| 001|  34|  28|  14|1172243|1899816|2023|01/01/2024 03:41:...|41.880543228|-87.642997936|(41.880543228, -8...|\n",
            "|13319146|JG554711|2023-12-25 00:00:00|034XX W IRVING PA...|0920| MOTOR VEHICLE THEFT|ATTEMPT - AUTOMOBILE|              STREET|false|false|1723| 017|  33|  16|  07|1152802|1926381|2023|01/01/2024 03:41:...| 41.95384684|-87.713678833|(41.95384684, -87...|\n",
            "|13321425|JG557395|2023-12-25 00:00:00|   019XX W OGDEN AVE|1220|  DECEPTIVE PRACTICE|THEFT OF LOST / M...|VEHICLE - OTHER R...|false|false|1225| 012|  28|  28|  11|1163673|1897489|2023|01/01/2024 03:41:...|41.874342594|-87.674531651|(41.874342594, -8...|\n",
            "|13318458|JG553938|2023-12-25 00:00:00|     027XX W 68TH ST|0460|             BATTERY|              SIMPLE|HOSPITAL BUILDING...|false|false|0831| 008|  16|  66| 08B|1159381|1859440|2023|01/01/2024 03:41:...|41.770020864|  -87.6913338|(41.770020864, -8...|\n",
            "|13320187|JG556018|2023-12-25 00:00:00|   010XX W TAYLOR ST|0820|               THEFT|      $500 AND UNDER|              STREET|false|false|1232| 012|  34|  28|  06|1169951|1895772|2023|01/01/2024 03:41:...|41.869496477|-87.651531841|(41.869496477, -8...|\n",
            "|13318663|JG554118|2023-12-25 00:00:00| 004XX S FRANKLIN ST|0810|               THEFT|           OVER $500|PARKING LOT / GAR...|false|false|0122| 001|  34|  32|  06|1174386|1898413|2023|01/01/2024 03:41:...|41.876645737|-87.635171022|(41.876645737, -8...|\n",
            "|13318726|JG554241|2023-12-25 00:00:00|   020XX S MORGAN ST|0910| MOTOR VEHICLE THEFT|          AUTOMOBILE|              STREET|false|false|1235| 012|  25|  31|  07|1170010|1890399|2023|01/01/2024 03:41:...|41.854751251|-87.651471903|(41.854751251, -8...|\n",
            "+--------+--------+-------------------+--------------------+----+--------------------+--------------------+--------------------+-----+-----+----+----+----+----+----+-------+-------+----+--------------------+------------+-------------+--------------------+\n",
            "only showing top 20 rows\n",
            "\n"
          ]
        }
      ]
    },
    {
      "cell_type": "code",
      "source": [
        "one_day.distinct().count()"
      ],
      "metadata": {
        "colab": {
          "base_uri": "https://localhost:8080/"
        },
        "id": "zrS-U1PgOiYh",
        "outputId": "1d7fb726-3416-4967-bb24-af3b5c4438cd"
      },
      "execution_count": 58,
      "outputs": [
        {
          "output_type": "execute_result",
          "data": {
            "text/plain": [
              "24"
            ]
          },
          "metadata": {},
          "execution_count": 58
        }
      ]
    },
    {
      "cell_type": "code",
      "source": [
        "df.distinct().count()"
      ],
      "metadata": {
        "colab": {
          "base_uri": "https://localhost:8080/"
        },
        "id": "HDmO_jeZPJAK",
        "outputId": "71d63f8d-f86d-4ff3-99bc-ce339974a035"
      },
      "execution_count": 15,
      "outputs": [
        {
          "output_type": "execute_result",
          "data": {
            "text/plain": [
              "8207796"
            ]
          },
          "metadata": {},
          "execution_count": 15
        }
      ]
    },
    {
      "cell_type": "code",
      "source": [
        "df.groupBy('_c5').count().show()"
      ],
      "metadata": {
        "colab": {
          "base_uri": "https://localhost:8080/"
        },
        "id": "kZO8rW2XJHp4",
        "outputId": "d8f466d8-bc35-4e08-9961-d8a16d81a5b5"
      },
      "execution_count": 16,
      "outputs": [
        {
          "output_type": "stream",
          "name": "stdout",
          "text": [
            "+--------------------+-------+\n",
            "|                 _c5|  count|\n",
            "+--------------------+-------+\n",
            "|OFFENSE INVOLVING...|  58791|\n",
            "|CRIMINAL SEXUAL A...|   9720|\n",
            "|            STALKING|   5647|\n",
            "|PUBLIC PEACE VIOL...|  53848|\n",
            "|           OBSCENITY|    898|\n",
            "|               ARSON|  14067|\n",
            "|            GAMBLING|  14651|\n",
            "|   CRIMINAL TRESPASS| 221954|\n",
            "|             ASSAULT| 544912|\n",
            "|LIQUOR LAW VIOLATION|  15205|\n",
            "| MOTOR VEHICLE THEFT| 415454|\n",
            "|               THEFT|1738032|\n",
            "|             BATTERY|1496376|\n",
            "|             ROBBERY| 308922|\n",
            "|            HOMICIDE|  13557|\n",
            "|           RITUALISM|     24|\n",
            "|    PUBLIC INDECENCY|    208|\n",
            "| CRIM SEXUAL ASSAULT|  27422|\n",
            "|   HUMAN TRAFFICKING|    105|\n",
            "|        INTIMIDATION|   4981|\n",
            "+--------------------+-------+\n",
            "only showing top 20 rows\n",
            "\n"
          ]
        }
      ]
    },
    {
      "cell_type": "code",
      "source": [
        "df.select(\"_c8\").distinct().show()"
      ],
      "metadata": {
        "colab": {
          "base_uri": "https://localhost:8080/"
        },
        "id": "oxwqkns3K2al",
        "outputId": "0dcd7625-e3c7-41b0-c559-526782c12dcf"
      },
      "execution_count": 20,
      "outputs": [
        {
          "output_type": "stream",
          "name": "stdout",
          "text": [
            "+------+\n",
            "|   _c8|\n",
            "+------+\n",
            "|Arrest|\n",
            "| false|\n",
            "|  true|\n",
            "+------+\n",
            "\n"
          ]
        }
      ]
    },
    {
      "cell_type": "code",
      "source": [
        "df.filter(col(\"_c8\") == \"true\").count() / df.select(\"_c8\").count()"
      ],
      "metadata": {
        "colab": {
          "base_uri": "https://localhost:8080/"
        },
        "id": "ltzHZKVzLWth",
        "outputId": "7e69eded-d972-469d-f9f7-0715576cf1ac"
      },
      "execution_count": 23,
      "outputs": [
        {
          "output_type": "execute_result",
          "data": {
            "text/plain": [
              "0.25458527478022114"
            ]
          },
          "metadata": {},
          "execution_count": 23
        }
      ]
    },
    {
      "cell_type": "code",
      "source": [
        "n_location = df.groupBy(\"_c7\").count()\n",
        "n_location.show()"
      ],
      "metadata": {
        "colab": {
          "base_uri": "https://localhost:8080/"
        },
        "id": "QTuXofA-Mw6m",
        "outputId": "e9b6d21e-6a90-43b5-b485-7b0ba792d8b1"
      },
      "execution_count": 24,
      "outputs": [
        {
          "output_type": "stream",
          "name": "stdout",
          "text": [
            "+--------------------+------+\n",
            "|                 _c7| count|\n",
            "+--------------------+------+\n",
            "|   RAILROAD PROPERTY|    16|\n",
            "|SCHOOL - PRIVATE ...|  1260|\n",
            "|AIRPORT TERMINAL ...|  2582|\n",
            "|VEHICLE - COMMERCIAL|  1074|\n",
            "|POLICE FACILITY/V...| 18566|\n",
            "|RESIDENCE - YARD ...| 13517|\n",
            "|CHA PARKING LOT /...|  2089|\n",
            "|            SIDEWALK|751586|\n",
            "|AIRPORT TERMINAL ...|   142|\n",
            "|OTHER RAILROAD PR...|   593|\n",
            "|CTA GARAGE / OTHE...| 10276|\n",
            "|            CAR WASH|  3524|\n",
            "|    AIRPORT/AIRCRAFT| 16296|\n",
            "|            HOSPITAL|    17|\n",
            "|MEDICAL/DENTAL OF...|  7430|\n",
            "|    FEDERAL BUILDING|  1035|\n",
            "|         CTA STATION|  7500|\n",
            "|SCHOOL, PUBLIC, G...| 30252|\n",
            "|SPORTS ARENA/STADIUM|  5290|\n",
            "|                FARM|     9|\n",
            "+--------------------+------+\n",
            "only showing top 20 rows\n",
            "\n"
          ]
        }
      ]
    },
    {
      "cell_type": "code",
      "source": [
        "n_location.orderBy('count', ascending=False).show()"
      ],
      "metadata": {
        "colab": {
          "base_uri": "https://localhost:8080/"
        },
        "id": "tV0uqDhEN3pt",
        "outputId": "0200eb61-71d2-4d53-fab2-8c2a1284380d"
      },
      "execution_count": 25,
      "outputs": [
        {
          "output_type": "stream",
          "name": "stdout",
          "text": [
            "+--------------------+-------+\n",
            "|                 _c7|  count|\n",
            "+--------------------+-------+\n",
            "|              STREET|2145469|\n",
            "|           RESIDENCE|1356655|\n",
            "|           APARTMENT| 958063|\n",
            "|            SIDEWALK| 751586|\n",
            "|               OTHER| 269989|\n",
            "|PARKING LOT/GARAG...| 202955|\n",
            "|               ALLEY| 182818|\n",
            "|  SMALL RETAIL STORE| 161127|\n",
            "|SCHOOL, PUBLIC, B...| 146372|\n",
            "|          RESTAURANT| 136671|\n",
            "|    RESIDENCE-GARAGE| 135412|\n",
            "|VEHICLE NON-COMME...| 130117|\n",
            "|RESIDENCE PORCH/H...| 124181|\n",
            "|    DEPARTMENT STORE| 106604|\n",
            "|  GROCERY FOOD STORE| 102810|\n",
            "|         GAS STATION|  91492|\n",
            "|RESIDENTIAL YARD ...|  75146|\n",
            "|COMMERCIAL / BUSI...|  66427|\n",
            "|       PARK PROPERTY|  62024|\n",
            "|CHA PARKING LOT/G...|  56099|\n",
            "+--------------------+-------+\n",
            "only showing top 20 rows\n",
            "\n"
          ]
        }
      ]
    },
    {
      "cell_type": "code",
      "source": [
        "df.groupBy('_c5').count().orderBy('count', ascending=False).show()"
      ],
      "metadata": {
        "colab": {
          "base_uri": "https://localhost:8080/"
        },
        "id": "yGTObXjXOqmA",
        "outputId": "08d24bc5-780c-4a52-e0a0-c9ff383af8d3"
      },
      "execution_count": 26,
      "outputs": [
        {
          "output_type": "stream",
          "name": "stdout",
          "text": [
            "+--------------------+-------+\n",
            "|                 _c5|  count|\n",
            "+--------------------+-------+\n",
            "|               THEFT|1738032|\n",
            "|             BATTERY|1496376|\n",
            "|     CRIMINAL DAMAGE| 934533|\n",
            "|           NARCOTICS| 756925|\n",
            "|             ASSAULT| 544912|\n",
            "|       OTHER OFFENSE| 509985|\n",
            "|            BURGLARY| 437057|\n",
            "| MOTOR VEHICLE THEFT| 415454|\n",
            "|  DECEPTIVE PRACTICE| 373003|\n",
            "|             ROBBERY| 308922|\n",
            "|   CRIMINAL TRESPASS| 221954|\n",
            "|   WEAPONS VIOLATION| 119719|\n",
            "|        PROSTITUTION|  70229|\n",
            "|OFFENSE INVOLVING...|  58791|\n",
            "|PUBLIC PEACE VIOL...|  53848|\n",
            "|         SEX OFFENSE|  32958|\n",
            "| CRIM SEXUAL ASSAULT|  27422|\n",
            "|INTERFERENCE WITH...|  19409|\n",
            "|LIQUOR LAW VIOLATION|  15205|\n",
            "|            GAMBLING|  14651|\n",
            "+--------------------+-------+\n",
            "only showing top 20 rows\n",
            "\n"
          ]
        }
      ]
    }
  ]
}